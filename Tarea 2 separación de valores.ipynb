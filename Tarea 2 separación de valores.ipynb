{
 "cells": [
  {
   "cell_type": "code",
   "execution_count": 7,
   "id": "d2735930",
   "metadata": {},
   "outputs": [
    {
     "name": "stdout",
     "output_type": "stream",
     "text": [
      "logTe \n",
      "------\n",
      "3.4419\n",
      "3.4494\n",
      "3.4554\n",
      "3.4612\n",
      "3.4689\n",
      " 3.471\n",
      "3.4742\n",
      "   ...\n",
      "5.0682\n",
      "5.0698\n",
      "5.0705\n",
      "5.0718\n",
      "5.0814\n",
      "5.1031\n",
      "5.2515\n",
      "Length = 253 rows\n"
     ]
    }
   ],
   "source": [
    "\"\"\"\n",
    "a. Lee una tabla con datos usando astropy tables, importar numpy tambien.\n",
    "b. Escoge una columna numerica cualquiera, de tu table\n",
    "c. Encuentra como separar de esa columna los valores mayores que un numero tal y los menores que ese numero\n",
    "d. Encuentra como saber el numero de elementos en cada subconjunto y que el programa lo escriba. \n",
    "\"\"\"\n",
    "\n",
    "from astropy.io import ascii    \n",
    "import numpy as np      \n",
    "\n",
    "#a. Lee una tabla con datos usando astropy tables, importar numpy tambien.\n",
    "edad1 = ascii.read('1Myr.ascii')\n",
    "\n",
    "#b. Escoge una columna numerica cualquiera, de tu ta\n",
    "print(edad1_logTe.groups.keys)   #solo la columna "
   ]
  },
  {
   "cell_type": "code",
   "execution_count": 10,
   "id": "dbaafe5b",
   "metadata": {},
   "outputs": [
    {
     "name": "stdout",
     "output_type": "stream",
     "text": [
      "      logTe\n",
      "130  3.9573\n",
      "131  3.9705\n",
      "132  3.9837\n",
      "133  3.9970\n",
      "134  4.0082\n",
      "..      ...\n",
      "252  5.0664\n",
      "253  5.0698\n",
      "254  5.0814\n",
      "255  5.1031\n",
      "256  5.2515\n",
      "\n",
      "[127 rows x 1 columns]\n",
      "      logTe\n",
      "0    3.4419\n",
      "1    3.4494\n",
      "2    3.4554\n",
      "3    3.4612\n",
      "4    3.4689\n",
      "..      ...\n",
      "125  3.9080\n",
      "126  3.9178\n",
      "127  3.9276\n",
      "128  3.9375\n",
      "129  3.9474\n",
      "\n",
      "[130 rows x 1 columns]\n"
     ]
    }
   ],
   "source": [
    "#c. Encuentra como separar de esa columna los valores mayores que un numero tal y los menores que ese numero\n",
    "#d. Encuentra como saber el numero de elementos en cada subconjunto y que el programa lo escriba. \n",
    "\n",
    "import pandas as pd\n",
    "\n",
    "\n",
    "edad1 = pd.read_csv(\"1Myrs.csv\")\n",
    "col1 = pd.DataFrame(edad1,columns=['logTe']) #selecciona dos columnas\n",
    "#print (col1) \n",
    "x = col1[col1.logTe > 3.9474 ]\n",
    "y = col1[col1.logTe <= 3.9474 ] \n",
    "print(x)\n",
    "print(y)"
   ]
  },
  {
   "cell_type": "code",
   "execution_count": null,
   "id": "55eb6fd4",
   "metadata": {},
   "outputs": [],
   "source": []
  }
 ],
 "metadata": {
  "kernelspec": {
   "display_name": "Python 3 (ipykernel)",
   "language": "python",
   "name": "python3"
  },
  "language_info": {
   "codemirror_mode": {
    "name": "ipython",
    "version": 3
   },
   "file_extension": ".py",
   "mimetype": "text/x-python",
   "name": "python",
   "nbconvert_exporter": "python",
   "pygments_lexer": "ipython3",
   "version": "3.8.11"
  }
 },
 "nbformat": 4,
 "nbformat_minor": 5
}
